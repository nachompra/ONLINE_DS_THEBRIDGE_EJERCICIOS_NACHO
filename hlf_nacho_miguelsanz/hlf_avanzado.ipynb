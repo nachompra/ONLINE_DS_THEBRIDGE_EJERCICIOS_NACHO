{
 "cells": [
  {
   "cell_type": "markdown",
   "metadata": {},
   "source": [
    "![imagen](./img/hundir-la-flota-juego-de-mesa.jpg)"
   ]
  },
  {
   "cell_type": "markdown",
   "metadata": {},
   "source": [
    "En esta entrega vas a crear tu propio juego de **Hundir la flota** en Python. \n",
    "[Aquí](http://es.battleship-game.org/) podrás probarlo online."
   ]
  },
  {
   "attachments": {},
   "cell_type": "markdown",
   "metadata": {},
   "source": [
    "### En clase\n",
    "1. Crea la función `crear_tablero(tamaño)`, un tablero por defecto de 10x10 relleno del carácter \"_\" con numpy.\n",
    "2. Crea la función `colocar_barco(barco, tablero)`, que recibirá la lista de casillas de un barco y el tablero donde colocarlo. Prueba primero a posicionar un par de barcos por ejemplo en [(0,1), (1,1)] y [(1,3), (1,4), (1,5), (1,6)]. Los barcos serán Os mayúsculas. Como ves, un barco de dos posiciones de eslora y otro de cuatro.\n",
    "3. Crea la función `disparar(casilla, tablero)`, si el disparo acierta en un barco sustituye la O por una X (tocado), si es agua, sustituye la _ por una A (Agua). Prueba primero a disparar el barco de 2 casillas.\n",
    "4. Crea la función `crear_barco(eslora)`, que deberá crear una lista de casillas de un barco en función a la eslora, de forma aleatoria.\n",
    "\n",
    "### Proyecto individual\n",
    "5. Crea la función `colocar_barcos(tablero)`, que deberá de colocar la lista de barcos generados de forma aleatoria (6 barcos en total (3 barcos de eslora 2, 2 de eslora 3 y 1 eslora 4)) ¡Mucho ojo con barcos que estén superpuestos (no pueden ocupar dos barcos la misma casilla) o barcos que se salgan del tablero!\n",
    "6. Escribe el flujo completo del programa, con la dinámica de turnos y funcionalidades necesarios para jugar contra la máquina (dispara a tu tablero de forma aleatoria). Crea todas las funciones que necesites y aplica todo lo aprendido que te sea útil.\n",
    "7. Encapsula todo en un `main.py` y un `utils.py` para ejecutarlo desde terminal.\n",
    "8. Sube tu proyecto a un repositorio de github y prepara una demo (solo se podrá enseñar desde terminal) para la presentación de tu proyecto."
   ]
  },
  {
   "cell_type": "code",
   "execution_count": 14,
   "metadata": {},
   "outputs": [],
   "source": [
    "def crear_tablero(tamano: int):\n",
    "    ''' \n",
    "    Función para crear un tablero de tamaño tamano x tamano\n",
    "    y mostrarlo en la consola.\n",
    "    '''\n",
    "    # Inicializar el tablero vacío\n",
    "    tablero = []\n",
    "\n",
    "    '''\n",
    "    Procedemos a rellenar el tablero con 🟦 indicando agua.\n",
    "    Para ello nos servimos de un bucle for anidado, con el cual,\n",
    "    sirviéndonos del tamano definido en un range, recorremos n filas\n",
    "    y columnas con el icono de agua.\n",
    "    '''\n",
    "    for i in range(tamano):\n",
    "        fila = []\n",
    "        for j in range(tamano):\n",
    "            fila.append(\"🟦\")\n",
    "        tablero.append(fila)\n",
    "\n",
    "    # Imprimir el tablero\n",
    "    for fila in tablero:    \n",
    "        print(\" \".join(fila))\n",
    "\n",
    "    return tablero\n",
    "# Crear e imprimir el tablero de 10x10\n",
    "#crear_tablero(10)\n",
    "\n"
   ]
  },
  {
   "cell_type": "code",
   "execution_count": 37,
   "metadata": {},
   "outputs": [
    {
     "name": "stdout",
     "output_type": "stream",
     "text": [
      "🟦 🟦 🟦 🟦 🟦 🟦 🟦 🟦 🟦 🟦\n",
      "🟦 🟦 🟦 🟦 🟦 🟦 🟦 🟦 🟦 🟦\n",
      "🟦 🟦 🟦 🟦 🟦 🟦 🟦 🟦 🟦 🟦\n",
      "🟦 🟦 🟦 🟦 🟦 🟦 🟦 🟦 🟦 🟦\n",
      "🟦 🟦 🟦 🟦 🟦 🟦 🟦 🟦 🟦 🟦\n",
      "🟦 🟦 🟦 🟦 🟦 🟦 🟦 🟦 🟦 🟦\n",
      "🟦 🟦 🟦 🟦 🟦 🟦 🟦 🟦 🟦 🟦\n",
      "🟦 🟦 🟦 🟦 🟦 🟦 🟦 🟦 🟦 🟦\n",
      "🟦 🟦 🟦 🟦 🟦 🟦 🟦 🟦 🟦 🟦\n",
      "🟦 🟦 🟦 🟦 🟦 🟦 🟦 🟦 🟦 🟦\n"
     ]
    }
   ],
   "source": [
    "tablero_test = crear_tablero(10)"
   ]
  },
  {
   "cell_type": "code",
   "execution_count": null,
   "metadata": {},
   "outputs": [],
   "source": [
    "def colocar_barco(barco, tablero, print=True):\n",
    "    '''\n",
    "    Función para colocar un barco en el tablero.\n",
    "    barco: lista de tuplas que representan las coordenadas del barco\n",
    "    tablero: la matriz del tablero\n",
    "    print: dependiendo de la iteración, nos devuelve el tablero o no,\n",
    "    esto se implementa en el caso de utilizar esta función en un bucle.\n",
    "    '''\n",
    "    for coordenada in barco:\n",
    "        x, y = coordenada\n",
    "        tablero[x][y] = \"⚓\"\n",
    "    if print == True:\n",
    "        for fila in tablero:\n",
    "            print(\" \".join(fila))\n",
    "\n",
    "    return\n",
    "\n",
    "\n"
   ]
  },
  {
   "cell_type": "code",
   "execution_count": 21,
   "metadata": {},
   "outputs": [
    {
     "name": "stdout",
     "output_type": "stream",
     "text": [
      "🟦 ⚓ 🟦 🟦 🟦 🟦 🟦 🟦 🟦 🟦\n",
      "🟦 ⚓ 🟦 🟦 🟦 🟦 🟦 🟦 🟦 🟦\n",
      "🟦 🟦 🟦 🟦 🟦 🟦 🟦 🟦 🟦 🟦\n",
      "🟦 🟦 🟦 🟦 🟦 🟦 🟦 🟦 🟦 🟦\n",
      "🟦 🟦 🟦 🟦 🟦 🟦 🟦 🟦 🟦 🟦\n",
      "🟦 🟦 🟦 🟦 🟦 🟦 🟦 🟦 🟦 🟦\n",
      "🟦 🟦 🟦 🟦 🟦 🟦 🟦 🟦 🟦 🟦\n",
      "🟦 🟦 🟦 🟦 🟦 🟦 🟦 🟦 🟦 🟦\n",
      "🟦 🟦 🟦 🟦 🟦 🟦 🟦 🟦 🟦 🟦\n",
      "🟦 🟦 🟦 🟦 🟦 🟦 🟦 🟦 🟦 🟦\n"
     ]
    }
   ],
   "source": [
    "barco1 = [(0,1),(1,1)]\n",
    "colocar_barco(barco1,tablero_test)\n",
    "#Este nuevo tablero sustituirá al original, y así con cada registro de barco"
   ]
  },
  {
   "cell_type": "code",
   "execution_count": 34,
   "metadata": {},
   "outputs": [],
   "source": [
    "def disparar(casilla:tuple, tablero:list):\n",
    "    for x,y in casilla:\n",
    "        if tablero[x][y] == \"⚓\":\n",
    "            tablero[x][y] = \"💥\"\n",
    "        else:\n",
    "            tablero[x][y] = \"🌊\"\n",
    "    \n",
    "    for fila in tablero:\n",
    "        print(\" \".join(fila))\n",
    "    \n",
    "    return "
   ]
  },
  {
   "cell_type": "code",
   "execution_count": 36,
   "metadata": {},
   "outputs": [
    {
     "name": "stdout",
     "output_type": "stream",
     "text": [
      "🟦 💥 🟦 🌊 🟦 🟦 🟦 🟦 🟦 🟦\n",
      "🟦 ⚓ 🟦 🟦 🟦 🟦 🟦 🟦 🟦 🟦\n",
      "🟦 🟦 🟦 🟦 🟦 🟦 🟦 🟦 🟦 🟦\n",
      "🟦 🟦 🟦 🟦 🟦 🟦 🟦 🟦 🟦 🟦\n",
      "🟦 🟦 🟦 🟦 🟦 🟦 🟦 🟦 🟦 🟦\n",
      "🟦 🟦 🟦 🟦 🟦 🟦 🟦 🟦 🟦 🟦\n",
      "🟦 🟦 🟦 🟦 🟦 🟦 🟦 🟦 🟦 🟦\n",
      "🟦 🟦 🟦 🟦 🟦 🟦 🟦 🟦 🟦 🟦\n",
      "🟦 🟦 🟦 🟦 🟦 🟦 🟦 🟦 🟦 🟦\n",
      "🟦 🟦 🟦 🟦 🟦 🟦 🟦 🟦 🟦 🟦\n"
     ]
    }
   ],
   "source": [
    "disparar([(0,3)], tablero_test)"
   ]
  },
  {
   "cell_type": "code",
   "execution_count": null,
   "metadata": {},
   "outputs": [],
   "source": [
    "import random\n",
    "coor_ut = [] #coordenadas utilizadas\n",
    "\n",
    "def crear_barcos(n):\n",
    "    '''\n",
    "    Para crear barcos de n posiciones en el tablero (eslora), \n",
    "    generaremos un set de coordenadas para evitar duplicidades,\n",
    "    también definiremos los posibles movimientos en el tablero\n",
    "    (vertical->arriba y abajo-, horizontal->izquierda y derecha.)\n",
    "    '''\n",
    "    direc = [(0, 1), (1, 0), (0, -1), (-1, 0)]\n",
    "    coor = set()\n",
    "    '''\n",
    "    Antes de arrancar el bucle que while que genera la lista para el barco,\n",
    "    definimos una coordenada de origen aleatoria, y una dirección aleatoria para\n",
    "    la secuencia de coordenadas y así asegurarnos que todas las que nos devuelva\n",
    "    el bucle while sean en orden vertical u horizontal.    \n",
    "    '''\n",
    "    x, y = random.randint(0, 9), random.randint(0, 9)\n",
    "    coor.add((x, y))\n",
    "    new_direc = random.choice(direc) #Se asigna una dirección de forma a leatoria\n",
    "\n",
    "    while len(coor) < n:\n",
    "        new_x, new_y = x + new_direc[0], y + new_direc[1]\n",
    "        # Nos aseguramos que las coordenadas no estén repetidas y dentro del tablero\n",
    "        if (new_x, new_y) not in coor and 0 <= new_x < 10 and 0 <= new_y < 10 and (new_x, new_y) not in coor_ut: \n",
    "            coor.add((new_x, new_y))\n",
    "            x, y = new_x, new_y \n",
    "    coor_ut.append((new_x, new_y))\n",
    "        \n",
    "        \n",
    "    return list(coor)"
   ]
  },
  {
   "cell_type": "code",
   "execution_count": null,
   "metadata": {},
   "outputs": [],
   "source": [
    "##Para crear la listas de Barcos \n",
    "barco_2_p1 = 3\n",
    "    barco_3_p1 = 2\n",
    "    barco_4_p1 = 1\n",
    "while barco_2_p1 != 0:\n",
    "        pos_player1 = input(\"¿Dónde quieres colocar tus barcos de 2 uds de eslora?\") #deberá ser una lista de n tuplas acorde a la eslora del barco\n",
    "        for i in pos_player1:\n",
    "            print(i)"
   ]
  },
  {
   "cell_type": "code",
   "execution_count": null,
   "metadata": {},
   "outputs": [],
   "source": [
    "##Apuntes durante el while\n",
    "print(\"Recuerda tu entrenamiento grumete, el posicionamiento de los barcos se corresponde a una lista de tuplas [(x1, y1),(x2, y2)...(xn, yn)]\")"
   ]
  },
  {
   "cell_type": "markdown",
   "metadata": {},
   "source": [
    "## Presentación\n",
    "Cada uno realizará una presentación el **lunes 9 de diciembre**, donde se contarán con **10 minutos máximo**, importante ceñirse al tiempo. Se tendrá que enseñar:\n",
    "1. El git clone del repositorio de github a tu ordenador y explicar las partes más relevantes del código.\n",
    "2. Una demo donde se muestre el correcto funcionamiento del código para jugar, ejecutándose desde terminal"
   ]
  },
  {
   "cell_type": "code",
   "execution_count": null,
   "metadata": {},
   "outputs": [],
   "source": []
  }
 ],
 "metadata": {
  "kernelspec": {
   "display_name": "Python 3",
   "language": "python",
   "name": "python3"
  },
  "language_info": {
   "codemirror_mode": {
    "name": "ipython",
    "version": 3
   },
   "file_extension": ".py",
   "mimetype": "text/x-python",
   "name": "python",
   "nbconvert_exporter": "python",
   "pygments_lexer": "ipython3",
   "version": "3.13.0"
  },
  "orig_nbformat": 4
 },
 "nbformat": 4,
 "nbformat_minor": 2
}
