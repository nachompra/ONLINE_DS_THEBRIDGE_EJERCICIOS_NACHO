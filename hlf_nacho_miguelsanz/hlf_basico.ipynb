{
 "cells": [
  {
   "cell_type": "markdown",
   "metadata": {},
   "source": [
    "![imagen](./img/hundir-la-flota-juego-de-mesa.jpg)"
   ]
  },
  {
   "cell_type": "markdown",
   "metadata": {},
   "source": [
    "En esta entrega vas a crear tu propio juego de **Hundir la flota** en Python. \n",
    "[Aquí](http://es.battleship-game.org/) podrás probarlo online."
   ]
  },
  {
   "attachments": {},
   "cell_type": "markdown",
   "metadata": {},
   "source": [
    "### En clase\n",
    "1. Crea la función `crear_tablero(tamaño)`, un tablero por defecto de 10x10 relleno del carácter \"_\" con numpy.\n",
    "2. Crea la función `colocar_barco(barco, tablero)`, que recibirá la lista de casillas de un barco y el tablero donde colocarlo. Prueba primero a posicionar un par de barcos por ejemplo en [(0,1), (1,1)] y [(1,3), (1,4), (1,5), (1,6)]. Los barcos serán Os mayúsculas. Como ves, un barco de dos posiciones de eslora y otro de cuatro.\n",
    "3. Crea la función `disparar(casilla, tablero)`, si el disparo acierta en un barco sustituye la O por una X (tocado), si es agua, sustituye la _ por una A (Agua). Prueba primero a disparar el barco de 2 casillas.\n",
    "4. Crea la función `crear_barco(eslora)`, que deberá crear una lista de casillas de un barco en función a la eslora, de forma aleatoria.\n",
    "\n",
    "### Proyecto individual\n",
    "5. Crea la función `colocar_barcos(tablero)`, que deberá de colocar la lista de barcos generados de forma aleatoria (6 barcos en total (3 barcos de eslora 2, 2 de eslora 3 y 1 eslora 4)) ¡Mucho ojo con barcos que estén superpuestos (no pueden ocupar dos barcos la misma casilla) o barcos que se salgan del tablero!\n",
    "6. Escribe el flujo completo del programa, con la dinámica de turnos y funcionalidades necesarios para jugar contra la máquina (dispara a tu tablero de forma aleatoria). Crea todas las funciones que necesites y aplica todo lo aprendido que te sea útil.\n",
    "7. Encapsula todo en un `main.py` y un `utils.py` para ejecutarlo desde terminal.\n",
    "8. Sube tu proyecto a un repositorio de github y prepara una demo (solo se podrá enseñar desde terminal) para la presentación de tu proyecto."
   ]
  },
  {
   "cell_type": "code",
   "execution_count": 1,
   "metadata": {},
   "outputs": [],
   "source": [
    "def crear_tablero(tamano: int):\n",
    "    ''' \n",
    "    Función para crear un tablero de tamaño tamano x tamano\n",
    "    y mostrarlo en la consola.\n",
    "    '''\n",
    "    # Inicializar el tablero vacío\n",
    "    tablero = []\n",
    "\n",
    "    '''\n",
    "    Procedemos a rellenar el tablero con - indicando agua por explorar.\n",
    "    Para ello nos servimos de un bucle for anidado, con el cual,\n",
    "    sirviéndonos del tamano definido en un range, recorremos n filas\n",
    "    y columnas con el icono de agua.\n",
    "    '''\n",
    "    for i in range(tamano):\n",
    "        fila = []\n",
    "        for j in range(tamano):\n",
    "            fila.append(\"-\")\n",
    "        tablero.append(fila)\n",
    "\n",
    "    # Imprimir el tablero\n",
    "    for fila in tablero:    \n",
    "        print(\" \".join(fila))\n",
    "\n",
    "    return tablero\n",
    "# Crear e imprimir el tablero de 10x10\n",
    "#crear_tablero(10)\n",
    "\n"
   ]
  },
  {
   "cell_type": "code",
   "execution_count": 2,
   "metadata": {},
   "outputs": [
    {
     "name": "stdout",
     "output_type": "stream",
     "text": [
      "- - - - - - - - - -\n",
      "- - - - - - - - - -\n",
      "- - - - - - - - - -\n",
      "- - - - - - - - - -\n",
      "- - - - - - - - - -\n",
      "- - - - - - - - - -\n",
      "- - - - - - - - - -\n",
      "- - - - - - - - - -\n",
      "- - - - - - - - - -\n",
      "- - - - - - - - - -\n"
     ]
    }
   ],
   "source": [
    "tablero_test = crear_tablero(10)"
   ]
  },
  {
   "cell_type": "code",
   "execution_count": 3,
   "metadata": {},
   "outputs": [
    {
     "data": {
      "text/plain": [
       "[['-', '-', '-', '-', '-', '-', '-', '-', '-', '-'],\n",
       " ['-', '-', '-', '-', '-', '-', '-', '-', '-', '-'],\n",
       " ['-', '-', '-', '-', '-', '-', '-', '-', '-', '-'],\n",
       " ['-', '-', '-', '-', '-', '-', '-', '-', '-', '-'],\n",
       " ['-', '-', '-', '-', '-', '-', '-', '-', '-', '-'],\n",
       " ['-', '-', '-', '-', '-', '-', '-', '-', '-', '-'],\n",
       " ['-', '-', '-', '-', '-', '-', '-', '-', '-', '-'],\n",
       " ['-', '-', '-', '-', '-', '-', '-', '-', '-', '-'],\n",
       " ['-', '-', '-', '-', '-', '-', '-', '-', '-', '-'],\n",
       " ['-', '-', '-', '-', '-', '-', '-', '-', '-', '-']]"
      ]
     },
     "execution_count": 3,
     "metadata": {},
     "output_type": "execute_result"
    }
   ],
   "source": [
    "tablero_test"
   ]
  },
  {
   "cell_type": "code",
   "execution_count": 4,
   "metadata": {},
   "outputs": [],
   "source": [
    "def colocar_barco(barco, tablero, show=True):\n",
    "    '''\n",
    "    Función para colocar un barco en el tablero.\n",
    "    barco: lista de tuplas que representan las coordenadas del barco\n",
    "    tablero: la matriz del tablero\n",
    "    print: dependiendo de la iteración, nos devuelve el tablero o no,\n",
    "    esto se implementa en el caso de utilizar esta función en un bucle.\n",
    "    '''\n",
    "    for coordenada in barco:\n",
    "        x, y = coordenada\n",
    "        tablero[x][y] = \"O\"\n",
    "    if show == True:\n",
    "        for fila in tablero:\n",
    "            print(\" \".join(fila))\n",
    "\n",
    "    return\n",
    "\n",
    "\n"
   ]
  },
  {
   "cell_type": "code",
   "execution_count": null,
   "metadata": {},
   "outputs": [],
   "source": [
    "barco1 = [(0,1),(1,1)]\n",
    "colocar_barco(barco1,tablero_test)\n",
    "#Este nuevo tablero sustituirá al original, y así con cada registro de barco"
   ]
  },
  {
   "cell_type": "code",
   "execution_count": 5,
   "metadata": {},
   "outputs": [],
   "source": [
    "def disparar(casilla:tuple, tablero:list):\n",
    "    for x,y in casilla:\n",
    "        if tablero[x][y] == \"0\":\n",
    "            tablero[x][y] = \"X\"\n",
    "        else:\n",
    "            tablero[x][y] = \"A\"\n",
    "    \n",
    "    for fila in tablero:\n",
    "        print(\" \".join(fila))\n",
    "    \n",
    "    return "
   ]
  },
  {
   "cell_type": "code",
   "execution_count": null,
   "metadata": {},
   "outputs": [],
   "source": [
    "disparar([(0,3)], tablero_test)"
   ]
  },
  {
   "cell_type": "code",
   "execution_count": 226,
   "metadata": {},
   "outputs": [],
   "source": [
    "import random\n",
    "coor_ut = [] #coordenadas utilizadas\n",
    "\n",
    "def crear_barcos(n):\n",
    "    '''\n",
    "    Para crear barcos de n posiciones en el tablero (eslora), \n",
    "    generaremos un set de coordenadas para evitar duplicidades,\n",
    "    también definiremos los posibles movimientos en el tablero\n",
    "    (vertical->arriba y abajo-, horizontal->izquierda y derecha.)\n",
    "    '''\n",
    "    direc = [(0, 1), (1, 0), (0, -1), (-1, 0)]\n",
    "    coor = set()\n",
    "    '''\n",
    "    Antes de arrancar el bucle que while que genera la lista para el barco,\n",
    "    definimos una coordenada de origen aleatoria, y una dirección aleatoria para\n",
    "    la secuencia de coordenadas y así asegurarnos que todas las que nos devuelva\n",
    "    el bucle while sean en orden vertical u horizontal.    \n",
    "    '''\n",
    "    x, y = random.randint(0, 9), random.randint(0, 9)\n",
    "    coor.add((x, y))\n",
    "    new_direc = random.choice(direc) #Se asigna una dirección de forma a leatoria\n",
    "\n",
    "    while len(coor) < n:\n",
    "        new_x, new_y = x + new_direc[0], y + new_direc[1]\n",
    "        # Nos aseguramos que las coordenadas no estén repetidas y dentro del tablero\n",
    "        if (new_x, new_y) not in coor and 0 <= new_x < 10 and 0 <= new_y < 10 and (new_x, new_y) not in coor_ut: \n",
    "            coor.add((new_x, new_y))\n",
    "            x, y = new_x, new_y \n",
    "    coor_ut.append((new_x, new_y))\n",
    "        \n",
    "        \n",
    "    return list(coor)"
   ]
  },
  {
   "cell_type": "code",
   "execution_count": 227,
   "metadata": {},
   "outputs": [
    {
     "name": "stdout",
     "output_type": "stream",
     "text": [
      "[]\n"
     ]
    }
   ],
   "source": [
    "barcos = (2,2,2,3,3,4)\n",
    "barcos_p1 = []\n",
    "print(coor_ut)"
   ]
  },
  {
   "cell_type": "code",
   "execution_count": 225,
   "metadata": {},
   "outputs": [
    {
     "ename": "KeyboardInterrupt",
     "evalue": "",
     "output_type": "error",
     "traceback": [
      "\u001b[1;31m---------------------------------------------------------------------------\u001b[0m",
      "\u001b[1;31mKeyboardInterrupt\u001b[0m                         Traceback (most recent call last)",
      "Cell \u001b[1;32mIn[225], line 1\u001b[0m\n\u001b[1;32m----> 1\u001b[0m barco_test \u001b[38;5;241m=\u001b[39m \u001b[43mcrear_barcos\u001b[49m\u001b[43m(\u001b[49m\u001b[38;5;241;43m3\u001b[39;49m\u001b[43m)\u001b[49m\n\u001b[0;32m      2\u001b[0m \u001b[38;5;28mprint\u001b[39m(barco_test)\n\u001b[0;32m      3\u001b[0m \u001b[38;5;66;03m#barco_test2 = crear_barcos(4)\u001b[39;00m\n\u001b[0;32m      4\u001b[0m \u001b[38;5;66;03m#print(barco_test2)\u001b[39;00m\n",
      "Cell \u001b[1;32mIn[207], line 23\u001b[0m, in \u001b[0;36mcrear_barcos\u001b[1;34m(n)\u001b[0m\n\u001b[0;32m     20\u001b[0m coor\u001b[38;5;241m.\u001b[39madd((x, y))\n\u001b[0;32m     21\u001b[0m new_direc \u001b[38;5;241m=\u001b[39m random\u001b[38;5;241m.\u001b[39mchoice(direc) \u001b[38;5;66;03m#Se asigna una dirección de forma a leatoria\u001b[39;00m\n\u001b[1;32m---> 23\u001b[0m \u001b[38;5;28;01mwhile\u001b[39;00m \u001b[38;5;28mlen\u001b[39m(coor) \u001b[38;5;241m<\u001b[39m n:\n\u001b[0;32m     24\u001b[0m     new_x, new_y \u001b[38;5;241m=\u001b[39m x \u001b[38;5;241m+\u001b[39m new_direc[\u001b[38;5;241m0\u001b[39m], y \u001b[38;5;241m+\u001b[39m new_direc[\u001b[38;5;241m1\u001b[39m]\n\u001b[0;32m     25\u001b[0m     \u001b[38;5;66;03m# Nos aseguramos que las coordenadas no estén repetidas y dentro del tablero\u001b[39;00m\n",
      "\u001b[1;31mKeyboardInterrupt\u001b[0m: "
     ]
    }
   ],
   "source": [
    "barco_test = crear_barcos(3)\n",
    "print(barco_test)\n",
    "#barco_test2 = crear_barcos(4)\n",
    "#print(barco_test2)\n"
   ]
  },
  {
   "cell_type": "code",
   "execution_count": 228,
   "metadata": {},
   "outputs": [],
   "source": [
    "for eslora in barcos:\n",
    "    barcos_p1.append(crear_barcos(eslora))"
   ]
  },
  {
   "cell_type": "code",
   "execution_count": 222,
   "metadata": {},
   "outputs": [
    {
     "name": "stdout",
     "output_type": "stream",
     "text": [
      "[(6, 1), (9, 7), (4, 0), (2, 1), (4, 1), (3, 5), (7, 0), (5, 4), (6, 4), (5, 7), (9, 6), (4, 6), (0, 0), (4, 7), (1, 7), (1, 2), (6, 2), (1, 9)]\n"
     ]
    }
   ],
   "source": [
    "barcos_p1\n",
    "print(coor_ut)\n"
   ]
  },
  {
   "cell_type": "code",
   "execution_count": 229,
   "metadata": {},
   "outputs": [
    {
     "name": "stdout",
     "output_type": "stream",
     "text": [
      "- - - - - - - - - -\n",
      "- - - - - - - - - -\n",
      "- - - - - - - - - -\n",
      "- - - - - - - - - -\n",
      "- - - - - - - - - -\n",
      "- - - - - - - - - -\n",
      "- - - - - - - - - -\n",
      "- - - - - - - - - -\n",
      "- - - - - - - - - -\n",
      "- - - - - - - - - -\n"
     ]
    }
   ],
   "source": [
    "tablero_test = crear_tablero(10)"
   ]
  },
  {
   "cell_type": "code",
   "execution_count": 230,
   "metadata": {},
   "outputs": [],
   "source": [
    "\n",
    "for barco in barcos_p1:\n",
    "    colocar_barco(barco, tablero_test, show=False)\n"
   ]
  },
  {
   "cell_type": "code",
   "execution_count": 231,
   "metadata": {},
   "outputs": [
    {
     "name": "stdout",
     "output_type": "stream",
     "text": [
      "- - - - - - - - - -\n",
      "- - - - O O O O - -\n",
      "- O - - - - - - - -\n",
      "- O O O O - - - - -\n",
      "- - - - - - - - - -\n",
      "- - - O - - O - - O\n",
      "- - - O - - O - - O\n",
      "- - - - - - - - - O\n",
      "- - - - - - - - - -\n",
      "- - - - - - - - - -\n"
     ]
    }
   ],
   "source": [
    "for fila in tablero_test:    \n",
    "        print(\" \".join(fila))"
   ]
  },
  {
   "cell_type": "code",
   "execution_count": null,
   "metadata": {},
   "outputs": [],
   "source": [
    "import random\n",
    "\n",
    "def crear_barcos(n, tablero_size=10):\n",
    "    '''\n",
    "    Generates n random tuples of two ints which correspond to consecutive coordinates\n",
    "    (can be vertical and horizontal) that don't repeat.\n",
    "    Ensures there is at least one coordinate space between different sets of coordinates.\n",
    "    '''\n",
    "    directions = [(0, 1), (1, 0), (0, -1), (-1, 0)]\n",
    "    coordinates = set()\n",
    "\n",
    "    def is_valid(x, y):\n",
    "        # Check if the coordinate is within bounds\n",
    "        if x < 0 or x >= tablero_size or y < 0 or y >= tablero_size:\n",
    "            return False\n",
    "        \n",
    "        # Check if the coordinate and its neighbors are free\n",
    "        for dx in [-1, 0, 1]:\n",
    "            for dy in [-1, 0, 1]:\n",
    "                if (x + dx, y + dy) in coordinates:\n",
    "                    return False\n",
    "        return True\n",
    "\n",
    "    while len(coordinates) < n:\n",
    "        valid = False\n",
    "        while not valid:\n",
    "            # Start with a random initial coordinate\n",
    "            if len(coordinates) == 0:\n",
    "                x, y = random.randint(0, 9), random.randint(0, 9)\n",
    "            direction = random.choice(directions)\n",
    "            new_x, new_y = x + direction[0], y + direction[1]\n",
    "\n",
    "            # Check if the new coordinates are valid\n",
    "            if is_valid(new_x, new_y):\n",
    "                coordinates.add((new_x, new_y))\n",
    "                x, y = new_x, new_y\n",
    "                valid = True\n",
    "\n",
    "    return list(coordinates)\n",
    "\n",
    "# Ejemplo de uso\n",
    "n = 5  # Número de tuplas a generar\n",
    "barco_5 = crear_barcos(n)\n",
    "print(barco_5)\n"
   ]
  },
  {
   "cell_type": "code",
   "execution_count": null,
   "metadata": {},
   "outputs": [],
   "source": [
    "##Para crear la listas de Barcos \n",
    "barco_2_p1 = 3\n",
    "    barco_3_p1 = 2\n",
    "    barco_4_p1 = 1\n",
    "while barco_2_p1 != 0:\n",
    "        pos_player1 = input(\"¿Dónde quieres colocar tus barcos de 2 uds de eslora?\") #deberá ser una lista de n tuplas acorde a la eslora del barco\n",
    "        for i in pos_player1:\n",
    "            print(i)"
   ]
  },
  {
   "cell_type": "code",
   "execution_count": null,
   "metadata": {},
   "outputs": [],
   "source": [
    "##Apuntes durante el while\n",
    "print(\"Recuerda tu entrenamiento grumete, el posicionamiento de los barcos se corresponde a una lista de tuplas [(x1, y1),(x2, y2)...(xn, yn)]\")"
   ]
  },
  {
   "cell_type": "markdown",
   "metadata": {},
   "source": [
    "## Presentación\n",
    "Cada uno realizará una presentación el **lunes 9 de diciembre**, donde se contarán con **10 minutos máximo**, importante ceñirse al tiempo. Se tendrá que enseñar:\n",
    "1. El git clone del repositorio de github a tu ordenador y explicar las partes más relevantes del código.\n",
    "2. Una demo donde se muestre el correcto funcionamiento del código para jugar, ejecutándose desde terminal"
   ]
  },
  {
   "cell_type": "code",
   "execution_count": null,
   "metadata": {},
   "outputs": [],
   "source": []
  }
 ],
 "metadata": {
  "kernelspec": {
   "display_name": "Python 3",
   "language": "python",
   "name": "python3"
  },
  "language_info": {
   "codemirror_mode": {
    "name": "ipython",
    "version": 3
   },
   "file_extension": ".py",
   "mimetype": "text/x-python",
   "name": "python",
   "nbconvert_exporter": "python",
   "pygments_lexer": "ipython3",
   "version": "3.13.0"
  },
  "orig_nbformat": 4
 },
 "nbformat": 4,
 "nbformat_minor": 2
}
