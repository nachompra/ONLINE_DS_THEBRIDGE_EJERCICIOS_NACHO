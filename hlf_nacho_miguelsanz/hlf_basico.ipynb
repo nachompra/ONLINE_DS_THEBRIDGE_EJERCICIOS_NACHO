{
 "cells": [
  {
   "cell_type": "markdown",
   "metadata": {},
   "source": [
    "![imagen](./img/hundir-la-flota-juego-de-mesa.jpg)"
   ]
  },
  {
   "cell_type": "markdown",
   "metadata": {},
   "source": [
    "En esta entrega vas a crear tu propio juego de **Hundir la flota** en Python. \n",
    "[Aquí](http://es.battleship-game.org/) podrás probarlo online."
   ]
  },
  {
   "attachments": {},
   "cell_type": "markdown",
   "metadata": {},
   "source": [
    "### En clase\n",
    "1. Crea la función `crear_tablero(tamaño)`, un tablero por defecto de 10x10 relleno del carácter \"_\" con numpy.\n",
    "2. Crea la función `colocar_barco(barco, tablero)`, que recibirá la lista de casillas de un barco y el tablero donde colocarlo. Prueba primero a posicionar un par de barcos por ejemplo en [(0,1), (1,1)] y [(1,3), (1,4), (1,5), (1,6)]. Los barcos serán Os mayúsculas. Como ves, un barco de dos posiciones de eslora y otro de cuatro.\n",
    "3. Crea la función `disparar(casilla, tablero)`, si el disparo acierta en un barco sustituye la O por una X (tocado), si es agua, sustituye la _ por una A (Agua). Prueba primero a disparar el barco de 2 casillas.\n",
    "4. Crea la función `crear_barco(eslora)`, que deberá crear una lista de casillas de un barco en función a la eslora, de forma aleatoria.\n",
    "\n",
    "### Proyecto individual\n",
    "5. Crea la función `colocar_barcos(tablero)`, que deberá de colocar la lista de barcos generados de forma aleatoria (6 barcos en total (3 barcos de eslora 2, 2 de eslora 3 y 1 eslora 4)) ¡Mucho ojo con barcos que estén superpuestos (no pueden ocupar dos barcos la misma casilla) o barcos que se salgan del tablero!\n",
    "6. Escribe el flujo completo del programa, con la dinámica de turnos y funcionalidades necesarios para jugar contra la máquina (dispara a tu tablero de forma aleatoria). Crea todas las funciones que necesites y aplica todo lo aprendido que te sea útil.\n",
    "7. Encapsula todo en un `main.py` y un `utils.py` para ejecutarlo desde terminal.\n",
    "8. Sube tu proyecto a un repositorio de github y prepara una demo (solo se podrá enseñar desde terminal) para la presentación de tu proyecto."
   ]
  },
  {
   "cell_type": "code",
   "execution_count": 1,
   "metadata": {},
   "outputs": [
    {
     "ename": "NameError",
     "evalue": "name 'crear_tablero' is not defined",
     "output_type": "error",
     "traceback": [
      "\u001b[1;31m---------------------------------------------------------------------------\u001b[0m",
      "\u001b[1;31mNameError\u001b[0m                                 Traceback (most recent call last)",
      "Cell \u001b[1;32mIn[1], line 10\u001b[0m\n\u001b[0;32m      7\u001b[0m     \u001b[38;5;28;01mreturn\u001b[39;00m tablero\n\u001b[0;32m      9\u001b[0m \u001b[38;5;66;03m# Crear el tablero de 10x10\u001b[39;00m\n\u001b[1;32m---> 10\u001b[0m tablero \u001b[38;5;241m=\u001b[39m \u001b[43mcrear_tablero\u001b[49m(\u001b[38;5;241m10\u001b[39m)\n\u001b[0;32m     12\u001b[0m \u001b[38;5;66;03m# Imprimir el tablero\u001b[39;00m\n\u001b[0;32m     13\u001b[0m \u001b[38;5;28;01mfor\u001b[39;00m fila \u001b[38;5;129;01min\u001b[39;00m tablero:\n",
      "\u001b[1;31mNameError\u001b[0m: name 'crear_tablero' is not defined"
     ]
    }
   ],
   "source": [
    "def crear_tablero_basico(tamano:int):\n",
    "    ''' \n",
    "    Función para crear un tablero de tamaño (tamano x tamano:\n",
    "    donde tamano es un entero que marca el número de casillas)\n",
    "    '''\n",
    "    tablero = [[\"~\" for _ in range(tamano)] for _ in range(tamano)]\n",
    "    return tablero\n",
    "\n",
    "# Crear el tablero de 10x10\n",
    "tablero = crear_tablero(10)\n",
    "\n",
    "# Imprimir el tablero\n",
    "for fila in tablero:\n",
    "    print(\" \".join(fila))\n"
   ]
  },
  {
   "cell_type": "code",
   "execution_count": 10,
   "metadata": {},
   "outputs": [],
   "source": [
    "def crear_tablero(tamano: int):\n",
    "    ''' \n",
    "    Función para crear un tablero de tamaño tamano x tamano\n",
    "    y mostrarlo en la consola.\n",
    "    '''\n",
    "    # Inicializar el tablero vacío\n",
    "    tablero = []\n",
    "\n",
    "    '''\n",
    "    Procedemos a rellenar el tablero con 🟦 indicando agua.\n",
    "    Para ello nos servimos de un bucle for anidado, con el cual,\n",
    "    sirviéndonos del tamano definido en un range, recorremos n filas\n",
    "    y columnas con el icono de agua.\n",
    "    '''\n",
    "    for i in range(tamano):\n",
    "        fila = []\n",
    "        for j in range(tamano):\n",
    "            fila.append(\"🟦\")\n",
    "        tablero.append(fila)\n",
    "\n",
    "    # Imprimir el tablero\n",
    "    for fila in tablero:    \n",
    "        print(\" \".join(fila))\n",
    "\n",
    "# Crear e imprimir el tablero de 10x10\n",
    "#crear_tablero(10)\n",
    "\n"
   ]
  },
  {
   "cell_type": "code",
   "execution_count": 11,
   "metadata": {},
   "outputs": [
    {
     "name": "stdout",
     "output_type": "stream",
     "text": [
      "🟦 🟦 🟦 🟦 🟦 🟦 🟦 🟦 🟦 🟦\n",
      "🟦 🟦 🟦 🟦 🟦 🟦 🟦 🟦 🟦 🟦\n",
      "🟦 🟦 🟦 🟦 🟦 🟦 🟦 🟦 🟦 🟦\n",
      "🟦 🟦 🟦 🟦 🟦 🟦 🟦 🟦 🟦 🟦\n",
      "🟦 🟦 🟦 🟦 🟦 🟦 🟦 🟦 🟦 🟦\n",
      "🟦 🟦 🟦 🟦 🟦 🟦 🟦 🟦 🟦 🟦\n",
      "🟦 🟦 🟦 🟦 🟦 🟦 🟦 🟦 🟦 🟦\n",
      "🟦 🟦 🟦 🟦 🟦 🟦 🟦 🟦 🟦 🟦\n",
      "🟦 🟦 🟦 🟦 🟦 🟦 🟦 🟦 🟦 🟦\n",
      "🟦 🟦 🟦 🟦 🟦 🟦 🟦 🟦 🟦 🟦\n"
     ]
    }
   ],
   "source": [
    "tablero_test = crear_tablero(10)"
   ]
  },
  {
   "cell_type": "code",
   "execution_count": null,
   "metadata": {},
   "outputs": [],
   "source": [
    "def colocar_barco(barco, tablero):\n",
    "    '''\n",
    "    Función para colocar un barco en el tablero.\n",
    "    barco: lista de tuplas que representan las coordenadas del barco\n",
    "    tablero: la matriz del tablero\n",
    "    '''\n",
    "    for coordenada in barco:\n",
    "        x, y = coordenada\n",
    "        tablero[x][y] = \"⚓\"\n",
    "    for fila in tablero: \n",
    "        print(\" \".join(fila))\n",
    "\n",
    "\n"
   ]
  },
  {
   "cell_type": "code",
   "execution_count": null,
   "metadata": {},
   "outputs": [
    {
     "ename": "TypeError",
     "evalue": "'NoneType' object is not subscriptable",
     "output_type": "error",
     "traceback": [
      "\u001b[1;31m---------------------------------------------------------------------------\u001b[0m",
      "\u001b[1;31mTypeError\u001b[0m                                 Traceback (most recent call last)",
      "Cell \u001b[1;32mIn[17], line 1\u001b[0m\n\u001b[1;32m----> 1\u001b[0m \u001b[43mcolocar_barco\u001b[49m\u001b[43m(\u001b[49m\u001b[43m[\u001b[49m\u001b[43m(\u001b[49m\u001b[38;5;241;43m0\u001b[39;49m\u001b[43m,\u001b[49m\u001b[38;5;241;43m1\u001b[39;49m\u001b[43m)\u001b[49m\u001b[43m,\u001b[49m\u001b[43m(\u001b[49m\u001b[38;5;241;43m1\u001b[39;49m\u001b[43m,\u001b[49m\u001b[38;5;241;43m1\u001b[39;49m\u001b[43m)\u001b[49m\u001b[43m]\u001b[49m\u001b[43m,\u001b[49m\u001b[43mtablero_test\u001b[49m\u001b[43m)\u001b[49m\n",
      "Cell \u001b[1;32mIn[16], line 9\u001b[0m, in \u001b[0;36mcolocar_barco\u001b[1;34m(barco, tablero)\u001b[0m\n\u001b[0;32m      7\u001b[0m \u001b[38;5;28;01mfor\u001b[39;00m coordenada \u001b[38;5;129;01min\u001b[39;00m barco:\n\u001b[0;32m      8\u001b[0m     x, y \u001b[38;5;241m=\u001b[39m coordenada\n\u001b[1;32m----> 9\u001b[0m     \u001b[43mtablero\u001b[49m\u001b[43m[\u001b[49m\u001b[43mx\u001b[49m\u001b[43m]\u001b[49m[y] \u001b[38;5;241m=\u001b[39m \u001b[38;5;124m\"\u001b[39m\u001b[38;5;124m0\u001b[39m\u001b[38;5;124m\"\u001b[39m\n\u001b[0;32m     10\u001b[0m \u001b[38;5;28;01mfor\u001b[39;00m fila \u001b[38;5;129;01min\u001b[39;00m tablero: \n\u001b[0;32m     11\u001b[0m     \u001b[38;5;28mprint\u001b[39m(\u001b[38;5;124m\"\u001b[39m\u001b[38;5;124m \u001b[39m\u001b[38;5;124m\"\u001b[39m\u001b[38;5;241m.\u001b[39mjoin(fila))\n",
      "\u001b[1;31mTypeError\u001b[0m: 'NoneType' object is not subscriptable"
     ]
    }
   ],
   "source": [
    "colocar_barco([(0,1),(1,1)],tablero_test)"
   ]
  },
  {
   "cell_type": "code",
   "execution_count": null,
   "metadata": {},
   "outputs": [
    {
     "ename": "TypeError",
     "evalue": "'NoneType' object is not subscriptable",
     "output_type": "error",
     "traceback": [
      "\u001b[1;31m---------------------------------------------------------------------------\u001b[0m",
      "\u001b[1;31mTypeError\u001b[0m                                 Traceback (most recent call last)",
      "Cell \u001b[1;32mIn[15], line 1\u001b[0m\n\u001b[1;32m----> 1\u001b[0m tablero_test \u001b[38;5;241m=\u001b[39m \u001b[43mcolocar_barco\u001b[49m\u001b[43m(\u001b[49m\u001b[43m[\u001b[49m\u001b[43m(\u001b[49m\u001b[38;5;241;43m1\u001b[39;49m\u001b[43m,\u001b[49m\u001b[38;5;241;43m3\u001b[39;49m\u001b[43m)\u001b[49m\u001b[43m,\u001b[49m\u001b[43m \u001b[49m\u001b[43m(\u001b[49m\u001b[38;5;241;43m1\u001b[39;49m\u001b[43m,\u001b[49m\u001b[38;5;241;43m4\u001b[39;49m\u001b[43m)\u001b[49m\u001b[43m,\u001b[49m\u001b[43m \u001b[49m\u001b[43m(\u001b[49m\u001b[38;5;241;43m1\u001b[39;49m\u001b[43m,\u001b[49m\u001b[38;5;241;43m5\u001b[39;49m\u001b[43m)\u001b[49m\u001b[43m,\u001b[49m\u001b[43m \u001b[49m\u001b[43m(\u001b[49m\u001b[38;5;241;43m1\u001b[39;49m\u001b[43m,\u001b[49m\u001b[38;5;241;43m6\u001b[39;49m\u001b[43m)\u001b[49m\u001b[43m]\u001b[49m\u001b[43m,\u001b[49m\u001b[43mtablero_test\u001b[49m\u001b[43m)\u001b[49m\n",
      "Cell \u001b[1;32mIn[11], line 9\u001b[0m, in \u001b[0;36mcolocar_barco\u001b[1;34m(barco, tablero)\u001b[0m\n\u001b[0;32m      7\u001b[0m \u001b[38;5;28;01mfor\u001b[39;00m coordenada \u001b[38;5;129;01min\u001b[39;00m barco:\n\u001b[0;32m      8\u001b[0m     x, y \u001b[38;5;241m=\u001b[39m coordenada\n\u001b[1;32m----> 9\u001b[0m     \u001b[43mtablero\u001b[49m\u001b[43m[\u001b[49m\u001b[43mx\u001b[49m\u001b[43m]\u001b[49m[y] \u001b[38;5;241m=\u001b[39m \u001b[38;5;124m\"\u001b[39m\u001b[38;5;124m⚓\u001b[39m\u001b[38;5;124m\"\u001b[39m\n\u001b[0;32m     10\u001b[0m \u001b[38;5;28;01mfor\u001b[39;00m fila \u001b[38;5;129;01min\u001b[39;00m tablero: \n\u001b[0;32m     11\u001b[0m     \u001b[38;5;28mprint\u001b[39m(\u001b[38;5;124m\"\u001b[39m\u001b[38;5;124m \u001b[39m\u001b[38;5;124m\"\u001b[39m\u001b[38;5;241m.\u001b[39mjoin(fila))\n",
      "\u001b[1;31mTypeError\u001b[0m: 'NoneType' object is not subscriptable"
     ]
    }
   ],
   "source": []
  },
  {
   "cell_type": "code",
   "execution_count": null,
   "metadata": {},
   "outputs": [],
   "source": [
    "##Para crear la listas de Barcos \n",
    "barco_2_p1 = 3\n",
    "    barco_3_p1 = 2\n",
    "    barco_4_p1 = 1\n",
    "while barco_2_p1 != 0:\n",
    "        pos_player1 = input(\"¿Dónde quieres colocar tus barcos de 2 uds de eslora?\") #deberá ser una lista de n tuplas acorde a la eslora del barco\n",
    "        for i in pos_player1:\n",
    "            print(i)"
   ]
  },
  {
   "cell_type": "code",
   "execution_count": null,
   "metadata": {},
   "outputs": [],
   "source": [
    "##Apuntes durante el while\n",
    "print(\"Recuerda tu entrenamiento grumete, el posicionamiento de los barcos se corresponde a una lista de tuplas [(x1, y1),(x2, y2)...(xn, yn)]\")"
   ]
  },
  {
   "cell_type": "markdown",
   "metadata": {},
   "source": [
    "## Presentación\n",
    "Cada uno realizará una presentación el **lunes 9 de diciembre**, donde se contarán con **10 minutos máximo**, importante ceñirse al tiempo. Se tendrá que enseñar:\n",
    "1. El git clone del repositorio de github a tu ordenador y explicar las partes más relevantes del código.\n",
    "2. Una demo donde se muestre el correcto funcionamiento del código para jugar, ejecutándose desde terminal"
   ]
  },
  {
   "cell_type": "code",
   "execution_count": null,
   "metadata": {},
   "outputs": [],
   "source": []
  }
 ],
 "metadata": {
  "kernelspec": {
   "display_name": "Python 3",
   "language": "python",
   "name": "python3"
  },
  "language_info": {
   "codemirror_mode": {
    "name": "ipython",
    "version": 3
   },
   "file_extension": ".py",
   "mimetype": "text/x-python",
   "name": "python",
   "nbconvert_exporter": "python",
   "pygments_lexer": "ipython3",
   "version": "3.13.0"
  },
  "orig_nbformat": 4
 },
 "nbformat": 4,
 "nbformat_minor": 2
}
