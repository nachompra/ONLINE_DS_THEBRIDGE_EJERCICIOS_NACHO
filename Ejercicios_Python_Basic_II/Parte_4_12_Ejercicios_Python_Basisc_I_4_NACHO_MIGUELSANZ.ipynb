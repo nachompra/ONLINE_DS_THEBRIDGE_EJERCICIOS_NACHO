{
 "cells": [
  {
   "cell_type": "markdown",
   "metadata": {
    "id": "Jc5L35lWdfW8"
   },
   "source": [
    "![TheBridge_logo_RGB_color.jpg](attachment:TheBridge_logo_RGB_color.jpg)"
   ]
  },
  {
   "cell_type": "markdown",
   "metadata": {
    "id": "IVNbWgMwdfW_"
   },
   "source": [
    "![imagen](./img/ejercicios.png)"
   ]
  },
  {
   "cell_type": "markdown",
   "metadata": {
    "id": "KEO5n65YdfXA"
   },
   "source": [
    "## EJERCICIOS PYTHON BASICO 4:\n",
    "## Funciones, métodos, listas"
   ]
  },
  {
   "cell_type": "markdown",
   "metadata": {
    "id": "rMoEDw64dfXA"
   },
   "source": [
    "Completa los siguiente ejercicios, la solución completa a los mismos se publicarán en el repo del curso a lo largo del sprint. En algunos ejercicios se muestra la solución final, para que puedas comprobar que lo has hecho bien, pero lo importante es el código que generes. ¡Vaaamos, a ello...!"
   ]
  },
  {
   "cell_type": "markdown",
   "metadata": {
    "id": "vpGq6ZXCdfXB"
   },
   "source": [
    "![ejercicio.png](./img/ejercicio.png)\n",
    "\n",
    "## Ejercicio 1\n",
    "Para este ejercicio vamos a poner en práctica [las funciones built in](https://docs.python.org/3/library/functions.html).\n",
    "\n",
    "1. Calcula el máximo de la lista: [4, 6, 8, -1]\n",
    "2. Suma todos los elementos de la lista anterior\n",
    "3. Redondea este float a 3 dígitos decimales: 63.451256965\n",
    "4. Valor absoluto de: -74"
   ]
  },
  {
   "cell_type": "code",
   "execution_count": 11,
   "metadata": {
    "id": "2_TYRULDdfXB"
   },
   "outputs": [
    {
     "name": "stdout",
     "output_type": "stream",
     "text": [
      "[4, 6, 8, -1]\n",
      "8\n",
      "17\n",
      "63.451256965\n",
      "63.451\n",
      "-74\n",
      "74\n"
     ]
    }
   ],
   "source": [
    "mi_lista = [4, 6, 8, -1]\n",
    "mi_float = 63.451256965\n",
    "mi_abs = -74\n",
    "\n",
    "print(mi_lista)\n",
    "print(max(mi_lista))\n",
    "print(sum(mi_lista))\n",
    "print(mi_float)\n",
    "print(round(mi_float, 3))\n",
    "print(mi_abs)\n",
    "print(abs(mi_abs))"
   ]
  },
  {
   "cell_type": "markdown",
   "metadata": {
    "id": "HjTbsyEsdfXC"
   },
   "source": [
    "![ejercicio.png](./img/ejercicio.png)\n",
    "\n",
    "## Ejercicio 2\n",
    "Para el siguiente string se pide imprimir por pantalla los siguientes casos\n",
    "\n",
    "    \"En un lugar de la Mancha, de cuyo nombre no quiero acordarme.\"\n",
    "\n",
    "1. Pásalo todo a mayúsculas\n",
    "2. Pásalo todo a minúsculas\n",
    "3. Solo la primera letra de cada palabra en mayúscula, el resto en minúscula\n",
    "4. Crea una lista dividiéndolo por sus espacios\n",
    "5. Sustituye las comas `,` por puntos y comas `;`\n",
    "6. Elimina las `a` minúsculas"
   ]
  },
  {
   "cell_type": "code",
   "execution_count": 16,
   "metadata": {
    "id": "V16HqjlRdfXC",
    "outputId": "fbac441f-6512-42e5-a08b-93b2f1499c10"
   },
   "outputs": [
    {
     "name": "stdout",
     "output_type": "stream",
     "text": [
      "EN UN LUGAR DE LA MANCHA, DE CUYO NOMBRE NO QUIERO ACORDARME.\n",
      "en un lugar de la mancha, de cuyo nombre no quiero acordarme.\n",
      "En Un Lugar De La Mancha, De Cuyo Nombre No Quiero Acordarme.\n",
      "['En', 'un', 'lugar', 'de', 'la', 'Mancha,', 'de', 'cuyo', 'nombre', 'no', 'quiero', 'acordarme.']\n",
      "En un lugar de la Mancha; de cuyo nombre no quiero acordarme.\n",
      "En un lugr de l Mnch, de cuyo nombre no quiero cordrme.\n"
     ]
    }
   ],
   "source": [
    "texto = \"En un lugar de la Mancha, de cuyo nombre no quiero acordarme.\"\n",
    "print(texto.upper())\n",
    "print(texto.lower())\n",
    "print(texto.title())\n",
    "print(texto.split())\n",
    "print(texto.replace(\",\",\";\"))\n",
    "print(texto.replace(\"a\",\"\"))"
   ]
  },
  {
   "cell_type": "markdown",
   "metadata": {
    "id": "8fTzGEGcdfXD"
   },
   "source": [
    "![ejercicio.png](./img/ejercicio.png)\n",
    "\n",
    "## Ejercicio 3\n",
    "1. Crea una lista con 3 elementos numéricos\n",
    "2. Añade un cuarto elemento\n",
    "3. Calcula la suma de todos\n",
    "4. Elimina el segundo elemento de la lista\n",
    "5. Añade otro elemento en la posicion 3 de la lista\n",
    "6. Crea otra lista con 4 elementos y concaténala a la que ya tenías.\n",
    "7. Ordena la lista de menor a mayor.\n",
    "8. BONUS: Ordena la lista de mayor a menor.  \n",
    "(*PISTA: Para hacer 8, tendrás que buscar en la información del método...*)  \n",
    "  \n",
    "  \n",
    "NOTA: Pinta por pantalla el resultado de cada paso."
   ]
  },
  {
   "cell_type": "code",
   "execution_count": 24,
   "metadata": {
    "id": "GwAbGIb1dfXD",
    "outputId": "6128fb74-445f-4b0c-d678-e71d9fbaf381"
   },
   "outputs": [
    {
     "name": "stdout",
     "output_type": "stream",
     "text": [
      "[0, -1, 50]\n",
      "[0, -1, 50, 4]\n",
      "[0, 50, 4]\n",
      "[0, 50, -1, 4]\n",
      "[-1, 0, 4, 50]\n",
      "[50, 4, 0, -1]\n"
     ]
    }
   ],
   "source": [
    "lista = [0,-1,50]\n",
    "print(lista)\n",
    "lista.append(4)\n",
    "print(lista)\n",
    "lista.pop(1)\n",
    "print(lista)\n",
    "lista.insert(2,-1)\n",
    "print(lista)\n",
    "lista.sort()\n",
    "print(lista)\n",
    "lista.sort(reverse = True)\n",
    "print(lista)"
   ]
  }
 ],
 "metadata": {
  "colab": {
   "provenance": []
  },
  "kernelspec": {
   "display_name": "Python 3",
   "language": "python",
   "name": "python3"
  },
  "language_info": {
   "codemirror_mode": {
    "name": "ipython",
    "version": 3
   },
   "file_extension": ".py",
   "mimetype": "text/x-python",
   "name": "python",
   "nbconvert_exporter": "python",
   "pygments_lexer": "ipython3",
   "version": "3.8.5"
  }
 },
 "nbformat": 4,
 "nbformat_minor": 1
}
