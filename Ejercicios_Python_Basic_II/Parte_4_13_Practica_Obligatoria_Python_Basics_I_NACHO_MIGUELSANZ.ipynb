{
 "cells": [
  {
   "cell_type": "markdown",
   "metadata": {
    "id": "BNCAebJANPxq"
   },
   "source": [
    "![TheBridge_logo_RGB_color.jpg](attachment:TheBridge_logo_RGB_color.jpg)"
   ]
  },
  {
   "cell_type": "markdown",
   "metadata": {
    "id": "A9eDZvZaNPxs"
   },
   "source": [
    "![imagen](./img/ejercicios.png)"
   ]
  },
  {
   "cell_type": "markdown",
   "metadata": {
    "id": "59zPhBxXNPxs"
   },
   "source": [
    "## PRACTICA OBLIGATORIA: PYTHON"
   ]
  },
  {
   "cell_type": "markdown",
   "metadata": {
    "id": "mv2kb1GMNPxs"
   },
   "source": [
    "* La práctica obligatoria de esta unidad consiste en dos ejercicios de programación libre a completar.   \n",
    "* Recuerda que debes subirla a tu repositorio personal antes de la sesión en vivo para que puntúe adecuadamente.  \n",
    "* Recuerda también que no es necesario que esté perfecta, sólo es necesario que se vea el esfuerzo.\n",
    "* Esta práctica se resolverá en la sesión en vivo correspondiente y la solución se publicará en el repo del curso."
   ]
  },
  {
   "cell_type": "markdown",
   "metadata": {
    "id": "Kl9JzST2NPxt"
   },
   "source": [
    "![ejercicio.png](./img/ejercicio.png)\n",
    "## PARTE I\n",
    "\n",
    "En este ejercicio debes simular un chatbot al que le haremos pedidos de pizzas.\n",
    "\n",
    "1. El chatbot tiene que saludar con un: \"Buenas tardes, bienvenido al servicio de pedido online, el precio de nuestra pizzas es de 8,95 para la familiar o de 9,90 para la mediana ¿Cuántas pizzas  familiares desea?\"\n",
    "2. El ususario tiene que introducir un número de pizzas en una variable llamada 'pizz_familiar'\n",
    "3. El chatbot debe responder: \"Estupendo, ¿cuántas pizzas medianas desea?\" y guardar el número de pizzas medianas en otra variable 'pizz_mediana'\n",
    "4. Además debe responder del chatbot: \"Estupendo, se están preparando 'pizz' pizzas familiares y 'pizz_mediana' pizzas medianas. Digame su dirección\"\n",
    "5. El ususario tiene que introducir una direccion en formato String en otra variable llamada 'direcc'\n",
    "6. El programa debe calcular el monto total\n",
    "7. Respuesta final del chatbot: \"Le mandaremos las '(número total de pizzas)' pizzas a la dirección 'direcc'. Serán <precio total a pagar en euros>. Muchas gracias por su pedido.\"\n",
    "         \n"
   ]
  },
  {
   "cell_type": "code",
   "execution_count": null,
   "metadata": {
    "id": "qkKibyt-NPxt"
   },
   "outputs": [],
   "source": [
    "def chatbot():\n",
    "    \n",
    "    # Saludo inicial y número de pizzas familiares\n",
    "    pizz_familiar = int(input(\"Buenas tardes, bienvenido al servicio de pedido online, el precio de nuestras pizzas es de 8,95 para la familiar o de 9,90 para la mediana. ¿Cuántas pizzas familiares desea? \"))\n",
    "\n",
    "    # Número pizzas medianas\n",
    "    print(\"Estupendo, ¿cuántas pizzas medianas desea?\")\n",
    "    pizz_mediana = int(input(\" \"))\n",
    "\n",
    "    # Preparación del pedido\n",
    "    print(f\"Estupendo, se están preparando {pizz_familiar} pizzas familiares y {pizz_mediana} pizzas medianas. Dígame su dirección.\")\n",
    "    direcc = input(\" \")\n",
    "\n",
    "    # Cálculo del precio\n",
    "    precio_familiar = 8.95\n",
    "    precio_mediana = 9.90\n",
    "    total = (pizz_familiar * precio_familiar) + (pizz_mediana * precio_mediana)\n",
    "\n",
    "    # Respuesta final del chatbot\n",
    "    print(f\"Le mandaremos las {pizz_familiar + pizz_mediana} pizzas a la dirección '{direcc}'. Serán {total:.2f} euros. Muchas gracias por su pedido.\")\n",
    "\n",
    "chatbot()"
   ]
  },
  {
   "cell_type": "markdown",
   "metadata": {
    "id": "f0oqoGDGNPxt"
   },
   "source": [
    "![ejercicio.png](./img/ejercicio.png)\n",
    "## Parte II\n",
    "\n",
    "Crea un programa que realice las siguientes acciones:\n",
    "\n",
    "1. Solicite al usuario que introduzca 3 números enteros separados por comas (por ejemplo: 1,2,3).\n",
    "2. Convierta esa entrada en una lista de números enteros.\n",
    "3. Utilizando funciones built-in, determine el número máximo, el número mínimo y la suma total de los números introducidos.\n",
    "4. Determine la verdad o falsedad de la siguiente afirmación: \"El número máximo menos el número mínimo es igual a la suma total dividida por 5\".\n",
    "5. Muestre los resultados utilizando print."
   ]
  },
  {
   "cell_type": "code",
   "execution_count": 11,
   "metadata": {
    "id": "rAlpWiQ9NPxt"
   },
   "outputs": [
    {
     "name": "stdout",
     "output_type": "stream",
     "text": [
      "Introduzca 3 números separados por comas: 1,-8,5\n",
      "[1, -8, 5]\n",
      "5\n",
      "-8\n",
      "-2\n",
      "False\n"
     ]
    }
   ],
   "source": [
    "def test_num():\n",
    "    \n",
    "    # Entrada de valores\n",
    "    nums = str(input(\"Introduzca 3 números separados por comas: \"))\n",
    "    \n",
    "    # Definición de variables\n",
    "    lista = list(map(int, nums.split(',')))\n",
    "    lista_mayor = max(lista)\n",
    "    lista_menor = min(lista)\n",
    "    lista_sum = sum(lista)\n",
    "    lista_check = (lista_mayor - lista_menor) == (lista_sum / 5)\n",
    "    \n",
    "    # Print de resultados\n",
    "    print(lista)\n",
    "    print(lista_mayor)\n",
    "    print(lista_menor)\n",
    "    print(lista_sum)\n",
    "    print(lista_check)\n",
    "\n",
    "test_num()"
   ]
  }
 ],
 "metadata": {
  "colab": {
   "provenance": []
  },
  "kernelspec": {
   "display_name": "Python 3",
   "language": "python",
   "name": "python3"
  },
  "language_info": {
   "codemirror_mode": {
    "name": "ipython",
    "version": 3
   },
   "file_extension": ".py",
   "mimetype": "text/x-python",
   "name": "python",
   "nbconvert_exporter": "python",
   "pygments_lexer": "ipython3",
   "version": "3.8.5"
  }
 },
 "nbformat": 4,
 "nbformat_minor": 1
}
