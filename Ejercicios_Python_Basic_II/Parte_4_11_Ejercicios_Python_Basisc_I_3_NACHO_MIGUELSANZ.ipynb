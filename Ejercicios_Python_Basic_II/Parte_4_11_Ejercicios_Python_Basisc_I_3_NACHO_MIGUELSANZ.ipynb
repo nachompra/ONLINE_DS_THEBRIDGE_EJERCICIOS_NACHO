{
 "cells": [
  {
   "cell_type": "markdown",
   "metadata": {
    "id": "Qodfjst5dbiF"
   },
   "source": [
    "![TheBridge_logo_RGB_color.jpg](attachment:TheBridge_logo_RGB_color.jpg)"
   ]
  },
  {
   "cell_type": "markdown",
   "metadata": {
    "id": "xdlMdba1dbiI"
   },
   "source": [
    "![imagen](./img/ejercicios.png)"
   ]
  },
  {
   "cell_type": "markdown",
   "metadata": {
    "id": "1vGoKYbGdbiJ"
   },
   "source": [
    "## EJERCICIOS PYTHON BASICO 3:\n",
    "## Operaciones matemáticas, comparación y booleanas"
   ]
  },
  {
   "cell_type": "markdown",
   "metadata": {
    "id": "RZlFjjvEdbiJ"
   },
   "source": [
    "Completa los siguiente ejercicios, la solución completa a los mismos se publicarán en el repo del curso a lo largo del sprint. En algunos ejercicios se muestra la solución final, para que puedas comprobar que lo has hecho bien, pero lo importante es el código que generes. ¡Vaaamos, a ello...!"
   ]
  },
  {
   "cell_type": "markdown",
   "metadata": {
    "id": "UffxBhiadbiK"
   },
   "source": [
    "![ejercicio.png](./img/ejercicio.png)\n",
    "\n",
    "\n",
    "## Ejercicio 1\n",
    "Tenemos las siguientes variables:\n",
    "\n",
    "```Python\n",
    "A = 4\n",
    "B = \"Text\"\n",
    "C = 4.1\n",
    "```\n",
    "\n",
    "Comprueba:\n",
    "1. Si A y B son equivalentes\n",
    "2. Si A y C NO son equivalentes\n",
    "3. Si A es mayor que C\n",
    "4. Si C es menor o igual que A\n",
    "5. Si B NO es equivalente a C"
   ]
  },
  {
   "cell_type": "code",
   "execution_count": 9,
   "metadata": {
    "id": "BAdGDZ6adbiK",
    "outputId": "af53ff2e-721e-47ff-e5a9-4fc6f019da09"
   },
   "outputs": [
    {
     "name": "stdout",
     "output_type": "stream",
     "text": [
      "False\n",
      "True\n",
      "False\n",
      "False\n",
      "True\n"
     ]
    }
   ],
   "source": [
    "A = 4\n",
    "B = \"Text\"\n",
    "C = 4.1\n",
    "\n",
    "print(A == B)\n",
    "print(A != C)\n",
    "print(A > C)\n",
    "print(C <= A)\n",
    "print(B != C)"
   ]
  },
  {
   "cell_type": "markdown",
   "metadata": {
    "id": "GNKgSqjydbiL"
   },
   "source": [
    "![ejercicio.png](./img/ejercicio.png)\n",
    "\n",
    "## Ejercicio 2\n",
    "Crea un programa donde se recojan dos inputs del usuario, y el output del programa sea si esos inputs son iguales o no"
   ]
  },
  {
   "cell_type": "code",
   "execution_count": 12,
   "metadata": {
    "id": "XHt67Do0dbiM"
   },
   "outputs": [
    {
     "name": "stdout",
     "output_type": "stream",
     "text": [
      "Introduzca valor A: 58\n",
      "Introduzca valor B: 48\n",
      "Los valores A y B NO son iguales\n"
     ]
    }
   ],
   "source": [
    "def check_inputs():\n",
    "    input_a = float(input(\"Introduzca valor A: \"))\n",
    "    input_b = float(input(\"Introduzca valor B: \"))\n",
    "    resultado = input_a == input_b\n",
    "    if resultado == True:\n",
    "        print(\"Los valores A y B son iguales\")\n",
    "    else:\n",
    "        print(\"Los valores A y B NO son iguales\")\n",
    "check_inputs()"
   ]
  },
  {
   "cell_type": "markdown",
   "metadata": {
    "id": "i9iMbJksdbiM"
   },
   "source": [
    "![ejercicio.png](./img/ejercicio.png)\n",
    "\n",
    "## Ejercicio 3\n",
    "Mismo programa que en 2, pero en esta ocasión tienen que ser tres inputs y dos salidas. Una de las salidas que nos indique si todos son iguales, y la otra si al menos dos inputs sí que lo son"
   ]
  },
  {
   "cell_type": "code",
   "execution_count": 15,
   "metadata": {
    "id": "8rtDsJvedbiM",
    "outputId": "fed523f7-be66-4cbc-8700-b96d974c1da8"
   },
   "outputs": [
    {
     "name": "stdout",
     "output_type": "stream",
     "text": [
      "Introduzca valor A: 45\n",
      "Introduzca valor B: 8\n",
      "Introduzca valor C: 45\n",
      "Todos son iguales: False\n",
      "¿Algún valor coincide con otro? True\n"
     ]
    }
   ],
   "source": [
    "def check_inputs_v2():\n",
    "    input_a = float(input(\"Introduzca valor A: \"))\n",
    "    input_b = float(input(\"Introduzca valor B: \"))\n",
    "    input_c = float(input(\"Introduzca valor C: \"))\n",
    "    resultado_1 = input_a == input_b == input_c\n",
    "    resultado_2 = input_a == input_b or input_a == input_c or input_b == input_c\n",
    "    print(f\"Todos son iguales: {resultado_1}\")\n",
    "    print(f\"¿Algún valor coincide con otro? {resultado_2}\")\n",
    "    \n",
    "check_inputs_v2()"
   ]
  },
  {
   "cell_type": "markdown",
   "metadata": {
    "id": "7qU-YG7kdbiM"
   },
   "source": [
    "![ejercicio.png](./img/ejercicio.png)\n",
    "\n",
    "## Ejercicio 4\n",
    "Razona sin ejecutar código el output que obtendremos de las siguientes sentencias\n",
    "1. True and True and False\n",
    "2. not ((True or False) and (True or False))\n",
    "3. (False or False or False or True) and False\n",
    "4. not False and True and not True"
   ]
  },
  {
   "cell_type": "markdown",
   "metadata": {},
   "source": [
    "1. Dará como resultado FALSE, ya que la operación AND sólo devolvería TRUE en el caso de que todos los elementos fueran iguales.\n",
    "2. Dará como resultado FALSE, aunque ambos oepraciones de OR devuelven TRUE, el NOT de la primera sentencia lo convertirá en FALSE.\n",
    "3. La operación entre paréntesis devuelve un TRUE, que al llegar a la operación de AND resultará en FALSE.\n",
    "4. Devuelve FALSE, ya que con la acción del NOT, la sentencia queda _True and True and False_."
   ]
  },
  {
   "cell_type": "markdown",
   "metadata": {
    "id": "mKNOq6n8dbiN"
   },
   "source": []
  }
 ],
 "metadata": {
  "colab": {
   "provenance": []
  },
  "kernelspec": {
   "display_name": "Python 3",
   "language": "python",
   "name": "python3"
  },
  "language_info": {
   "codemirror_mode": {
    "name": "ipython",
    "version": 3
   },
   "file_extension": ".py",
   "mimetype": "text/x-python",
   "name": "python",
   "nbconvert_exporter": "python",
   "pygments_lexer": "ipython3",
   "version": "3.8.5"
  }
 },
 "nbformat": 4,
 "nbformat_minor": 1
}
