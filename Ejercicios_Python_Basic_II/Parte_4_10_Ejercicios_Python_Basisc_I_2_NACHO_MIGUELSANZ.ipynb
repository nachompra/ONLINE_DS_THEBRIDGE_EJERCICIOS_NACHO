{
 "cells": [
  {
   "cell_type": "markdown",
   "metadata": {
    "id": "GB2K42EgK9q5"
   },
   "source": [
    "![TheBridge_logo_RGB_color.jpg](attachment:TheBridge_logo_RGB_color.jpg)"
   ]
  },
  {
   "cell_type": "markdown",
   "metadata": {
    "id": "GnwVlO37K9q6"
   },
   "source": [
    "![imagen](./img/ejercicios.png)"
   ]
  },
  {
   "cell_type": "markdown",
   "metadata": {
    "id": "_9pTa0PXK9q6"
   },
   "source": [
    "## EJERCICIOS PYTHON BASICO 2:\n",
    "## Tipos y conversión de tipos"
   ]
  },
  {
   "cell_type": "markdown",
   "metadata": {
    "id": "tYmV-veoK9q6"
   },
   "source": [
    "Completa los siguiente ejercicios, la solución a los mismos se publicarán en el repo del curso a lo largo del sprint"
   ]
  },
  {
   "cell_type": "markdown",
   "metadata": {
    "id": "YAdFbIOXK9q7"
   },
   "source": [
    "![ejercicio.png](./img/ejercicio.png)\n",
    "\n",
    "## Ejercicio 1\n",
    "\n",
    "1. Crea dos variables numericas: un `int` y un `float`\n",
    "2. Comprueba sus tipos\n",
    "3. Sumalas en otra nueva\n",
    "4. ¿De qué tipo es la nueva variable?\n",
    "5. Elimina las dos primeras variables creadas"
   ]
  },
  {
   "cell_type": "code",
   "execution_count": 4,
   "metadata": {
    "id": "8QZmuLOsK9q7"
   },
   "outputs": [
    {
     "name": "stdout",
     "output_type": "stream",
     "text": [
      "5\n",
      "7.85\n",
      "<class 'int'>\n",
      "<class 'float'>\n",
      "12.85\n",
      "<class 'float'>\n"
     ]
    }
   ],
   "source": [
    "var_int = 5\n",
    "var_flt = 7.85\n",
    "print(var_int)\n",
    "print(var_flt)\n",
    "print(type(var_int))\n",
    "print(type(var_flt))\n",
    "var_sum = var_int + var_flt\n",
    "print(var_sum)\n",
    "print(type(var_sum))\n",
    "del var_int, var_flt"
   ]
  },
  {
   "cell_type": "markdown",
   "metadata": {
    "id": "f5xfpkpQK9q7"
   },
   "source": [
    "![ejercicio.png](./img/ejercicio.png)\n",
    "\n",
    "## Ejercicio 2\n",
    "Escribe un programa para pasar de grados a radianes. Hay que usar `input`. Recuerda que la conversión se realiza mediante\n",
    "\n",
    "radianes = grados*(pi/180)"
   ]
  },
  {
   "cell_type": "code",
   "execution_count": 6,
   "metadata": {
    "id": "V50TUQMzK9q7"
   },
   "outputs": [
    {
     "name": "stdout",
     "output_type": "stream",
     "text": [
      "Introduce el ángulo en grados: 63\n",
      "63.0 grados son 1.0995574287564276 radianes\n"
     ]
    }
   ],
   "source": [
    "import math \n",
    "def grados_a_radianes():\n",
    "    grados = float(input(\"Introduce el ángulo en grados: \")) \n",
    "    radianes = grados * (math.pi / 180) \n",
    "    print(f\"{grados} grados son {radianes} radianes\")\n",
    "    \n",
    "grados_a_radianes()"
   ]
  },
  {
   "cell_type": "markdown",
   "metadata": {
    "id": "zX3-p58CK9q7"
   },
   "source": [
    "![ejercicio.png](./img/ejercicio.png)\n",
    "\n",
    "## Ejercicio 3\n",
    "Escribe un programa que calcule el area de un paralelogramo (base x altura). También con `input`"
   ]
  },
  {
   "cell_type": "code",
   "execution_count": 7,
   "metadata": {
    "id": "s2QfNiBAK9q7"
   },
   "outputs": [
    {
     "name": "stdout",
     "output_type": "stream",
     "text": [
      "Introduce la base del paralelogramo (en cm): 12\n",
      "Introduce la altura del paralelogramo (en cm)30\n",
      "El área del paralelogramo es de 360.0 cm2\n"
     ]
    }
   ],
   "source": [
    "def area_paralelogramo():\n",
    "    base = float(input(\"Introduce la base del paralelogramo (en cm): \"))\n",
    "    altura = float(input(\"Introduce la altura del paralelogramo (en cm)\"))\n",
    "    area = base * altura\n",
    "    print(f\"El área del paralelogramo es de {area} cm2\")\n",
    "    \n",
    "area_paralelogramo()"
   ]
  },
  {
   "cell_type": "markdown",
   "metadata": {
    "id": "-6TBo_HvK9q8"
   },
   "source": [
    "![ejercicio.png](./img/ejercicio.png)\n",
    "\n",
    "## Ejercicio 4\n",
    "Escribe un programa que calcule el area de un paralelogramo (base x altura). También con `input`. En este caso debe ser capaz de admitir valores reales, con decimales, para base y altura en español. (PISTA: Recuerda que tendrás que hacer uso del método replace)"
   ]
  },
  {
   "cell_type": "code",
   "execution_count": 3,
   "metadata": {
    "id": "uzUIa1JqK9q8"
   },
   "outputs": [
    {
     "name": "stdout",
     "output_type": "stream",
     "text": [
      "Introduce la base del paralelogramo: 52,52\n",
      "Introduce la altura del paralelogramo: 18\n",
      "El área del paralelogramo es de 945.36 cm2\n"
     ]
    }
   ],
   "source": [
    "def area_paralelogramo_v2():\n",
    "    base = str(input(\"Introduce la base del paralelogramo: \")).replace(\",\",\".\")\n",
    "    altura = str(input(\"Introduce la altura del paralelogramo: \")).replace(\",\",\".\")\n",
    "    area = float(base) * float(altura)\n",
    "    print(f\"El área del paralelogramo es de {area} cm2\")\n",
    "    \n",
    "area_paralelogramo_v2()"
   ]
  },
  {
   "cell_type": "markdown",
   "metadata": {
    "id": "5zKugi5iK9q8"
   },
   "source": [
    "![ejercicio.png](./img/ejercicio.png)\n",
    "\n",
    "## Ejercicio 5\n",
    "Complete el siguiente código para solicitar al usuario su nombre y su edad. Luego, calcule en qué año nació el usuario y muestre el resultado."
   ]
  },
  {
   "cell_type": "code",
   "execution_count": 8,
   "metadata": {
    "id": "LISfTnRkK9q8"
   },
   "outputs": [
    {
     "name": "stdout",
     "output_type": "stream",
     "text": [
      "¿Cuál es tu nombre? Nacho\n",
      "¿Cuál es tu edad? 29\n",
      "Nacho, naciste en el año 1995.\n"
     ]
    }
   ],
   "source": [
    "import datetime # Para disponer del año actual de forma automática\n",
    "def nombre_edad():\n",
    "    nombre = str(input(\"¿Cuál es tu nombre? \"))\n",
    "    edad = int(input(\"¿Cuál es tu edad? \"))\n",
    "    año_actual = datetime.date.today().year  # Puedes cambiarlo según el año en curso\n",
    "    año_nacimiento = año_actual - edad\n",
    "    print(f\"{nombre}, naciste en el año {año_nacimiento}.\")\n",
    "\n",
    "nombre_edad()"
   ]
  }
 ],
 "metadata": {
  "colab": {
   "provenance": []
  },
  "kernelspec": {
   "display_name": "Python 3",
   "language": "python",
   "name": "python3"
  },
  "language_info": {
   "codemirror_mode": {
    "name": "ipython",
    "version": 3
   },
   "file_extension": ".py",
   "mimetype": "text/x-python",
   "name": "python",
   "nbconvert_exporter": "python",
   "pygments_lexer": "ipython3",
   "version": "3.8.5"
  }
 },
 "nbformat": 4,
 "nbformat_minor": 1
}
