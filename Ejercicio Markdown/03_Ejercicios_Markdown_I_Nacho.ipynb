{
 "cells": [
  {
   "cell_type": "markdown",
   "id": "59ec229f",
   "metadata": {
    "id": "59ec229f"
   },
   "source": [
    "<img src=\"./img/TheBridge_logo_RGB_color.jpg\" width = 500>"
   ]
  },
  {
   "cell_type": "markdown",
   "id": "30a2c01b",
   "metadata": {
    "id": "30a2c01b"
   },
   "source": [
    "# EJERCICIOS MARKDOWN (I)"
   ]
  },
  {
   "cell_type": "markdown",
   "id": "e165fb0c",
   "metadata": {
    "id": "e165fb0c"
   },
   "source": [
    "Aquí tienes cinco sencillos ejercicios para practicar lo aprendido en la primera sesión de Markdown. Utiliza las celdas que hay debajo dec cada enunciado y recuerda convertirlas a Markdown primero ;-)"
   ]
  },
  {
   "cell_type": "markdown",
   "id": "5f74096f",
   "metadata": {
    "id": "5f74096f"
   },
   "source": [
    "\n",
    "\n",
    "### Ejercicio 1: Cabeceras\n",
    "Crea las siguientes cabeceras:\n",
    "\n",
    "1. Una cabecera de nivel 1 con el texto \"Ciencia de Datos\".\n",
    "2. Una cabecera de nivel 2 con el texto \"Introducción\".\n",
    "3. Una cabecera de nivel 3 con el texto \"Herramientas\"."
   ]
  },
  {
   "cell_type": "markdown",
   "id": "c5688aa1-a626-4315-af49-07d381de9b15",
   "metadata": {},
   "source": [
    "# Ciencia de Datos\n",
    "## Introducción\n",
    "### Herramientas"
   ]
  },
  {
   "cell_type": "markdown",
   "id": "VMO8j7_VlfdC",
   "metadata": {
    "id": "VMO8j7_VlfdC"
   },
   "source": [
    "## Hola mundo"
   ]
  },
  {
   "cell_type": "code",
   "execution_count": null,
   "id": "b3a2fc32",
   "metadata": {
    "colab": {
     "base_uri": "https://localhost:8080/"
    },
    "executionInfo": {
     "elapsed": 25,
     "status": "ok",
     "timestamp": 1714054095082,
     "user": {
      "displayName": "Miguel Ángel Nievas Fuertes",
      "userId": "11397502732317349410"
     },
     "user_tz": -120
    },
    "id": "b3a2fc32",
    "outputId": "c83ceba0-b719-463d-b56e-056705e25824"
   },
   "outputs": [
    {
     "name": "stdout",
     "output_type": "stream",
     "text": [
      "Hola mundo\n"
     ]
    }
   ],
   "source": [
    "print(\"Hola mundo\")"
   ]
  },
  {
   "cell_type": "markdown",
   "id": "4b636168",
   "metadata": {
    "id": "4b636168"
   },
   "source": [
    "### Ejercicio 2: Estilos de texto\n",
    "Escribe una frase que contenga las siguientes características:\n",
    "\n",
    "1. La palabra \"Markdown\" en negritas.\n",
    "2. La palabra \"Jupyter\" en cursivas.\n",
    "3. La palabra \"Python\" en negritas y cursivas."
   ]
  },
  {
   "cell_type": "markdown",
   "id": "0824bfc4-7a94-4316-88be-62387ebfbea4",
   "metadata": {
    "id": "b0fd666e"
   },
   "source": [
    "**Markdown** es un lenguaje que se emplea en *Jupyter* notebooks para explicar código ***Python***"
   ]
  },
  {
   "cell_type": "markdown",
   "id": "61fd2979",
   "metadata": {
    "id": "61fd2979"
   },
   "source": [
    "### Ejercicio 3: Resaltados y HTML\n",
    "Crea una línea que contenga:\n",
    "\n",
    "1. La palabra \"resaltado\" con un fondo amarillo usando Markdown.\n",
    "2. La palabra \"color\" en azul usando HTML.\n",
    "\n",
    "Para este ejercicio tendrás que buscar un poco más en internet, venga que tú puedes."
   ]
  },
  {
   "cell_type": "markdown",
   "id": "0c362be0-b791-4e3d-a36a-96e009b0dfb1",
   "metadata": {
    "id": "7aa81d0f"
   },
   "source": [
    "En un notebook podemos dejar un texto <code style=\"background:yellow;color:black\">resaltado</code> en <span style=\"color: blue\">color</span>"
   ]
  },
  {
   "cell_type": "markdown",
   "id": "a91386ca",
   "metadata": {
    "id": "a91386ca"
   },
   "source": [
    "### Ejercicio 4: Citas\n",
    "Incluye la siguiente cita:\n",
    "\n",
    "> La Ciencia de Datos es el petróleo del siglo XXI.\n",
    "\n",
    "En uno y dos niveles de cita"
   ]
  },
  {
   "cell_type": "markdown",
   "id": "0fa72182-bb44-4e49-9170-b02cd7723bcf",
   "metadata": {
    "id": "97aca4a0"
   },
   "source": [
    "> La Ciencia de Datos es el petróleo del siglo XXI.\n",
    ">> La Ciencia de Datos es el petróleo del siglo XXI."
   ]
  },
  {
   "cell_type": "markdown",
   "id": "35f0595a",
   "metadata": {
    "id": "35f0595a"
   },
   "source": [
    "### Ejercicio 5: Combinando todo\n",
    "Crea un texto que combine lo siguiente:\n",
    "\n",
    "1. Una cabecera de nivel 2 con el texto \"Curso de Markdown\".\n",
    "2. Una frase que contenga la palabra \"importante\" en negritas.\n",
    "3. Una cita que diga: \"Aprender es crecer\".\n",
    "4. La palabra \"ejemplo\" en cursivas y con un fondo verde usando HTML.\n",
    "\n",
    "Nota: Si no has sido capaz de encontrar como dar color de fondo usando HTML quizás <span style=\"background-color:yellow\">*tienes que buscar más cerca de ti*</span>\n"
   ]
  },
  {
   "cell_type": "markdown",
   "id": "45a4bbca-288e-4e0d-ad53-5f9624571346",
   "metadata": {
    "id": "919b170c"
   },
   "source": [
    "## Curso de Markdown\n",
    "Es **importante** documentar los avances en un notebook.\n",
    "> Aprender es crecer\n",
    "\n",
    "<span style=\"background-color:#90EE90\">*ejemplo*</span>"
   ]
  }
 ],
 "metadata": {
  "colab": {
   "provenance": []
  },
  "kernelspec": {
   "display_name": "Python 3 (ipykernel)",
   "language": "python",
   "name": "python3"
  },
  "language_info": {
   "codemirror_mode": {
    "name": "ipython",
    "version": 3
   },
   "file_extension": ".py",
   "mimetype": "text/x-python",
   "name": "python",
   "nbconvert_exporter": "python",
   "pygments_lexer": "ipython3",
   "version": "3.13.0"
  }
 },
 "nbformat": 4,
 "nbformat_minor": 5
}
